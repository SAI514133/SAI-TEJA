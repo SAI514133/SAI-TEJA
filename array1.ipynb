{
  "nbformat": 4,
  "nbformat_minor": 0,
  "metadata": {
    "colab": {
      "provenance": [],
      "authorship_tag": "ABX9TyN02FKUKaFD5Q1OBKlXoSSo",
      "include_colab_link": true
    },
    "kernelspec": {
      "name": "python3",
      "display_name": "Python 3"
    },
    "language_info": {
      "name": "python"
    }
  },
  "cells": [
    {
      "cell_type": "markdown",
      "metadata": {
        "id": "view-in-github",
        "colab_type": "text"
      },
      "source": [
        "<a href=\"https://colab.research.google.com/github/SAI514133/SAI-TEJA/blob/main/array1.ipynb\" target=\"_parent\"><img src=\"https://colab.research.google.com/assets/colab-badge.svg\" alt=\"Open In Colab\"/></a>"
      ]
    },
    {
      "cell_type": "code",
      "execution_count": 8,
      "metadata": {
        "colab": {
          "base_uri": "https://localhost:8080/"
        },
        "id": "ofCS-337vo6i",
        "outputId": "741706bd-ae90-4cac-d22b-534e317bb331"
      },
      "outputs": [
        {
          "output_type": "stream",
          "name": "stdout",
          "text": [
            "[2 5 3 7 3]\n",
            "<class 'numpy.ndarray'>\n"
          ]
        }
      ],
      "source": [
        "import numpy as np\n",
        "arry =np.array([2,5,3,7,3])\n",
        "print(arry)\n",
        "print(type(arry))\n"
      ]
    },
    {
      "cell_type": "code",
      "source": [
        "import numpy as np\n",
        "arry = np.array([[2,5],[4,2]])\n",
        "arry1 = np.array([[2,5,4,2],[4,2,1,0]])\n",
        "arry2 = np.array([[2,5,4],[4,2,5],[6,7,8]])\n",
        "print(arry)\n",
        "print(arry1)\n",
        "print(arry2)\n",
        "\n"
      ],
      "metadata": {
        "colab": {
          "base_uri": "https://localhost:8080/"
        },
        "id": "8ECkDMm9z1G9",
        "outputId": "9a4cfc07-50ab-434e-f805-9a55e44263b0"
      },
      "execution_count": 11,
      "outputs": [
        {
          "output_type": "stream",
          "name": "stdout",
          "text": [
            "[[2 5]\n",
            " [4 2]]\n",
            "[[2 5 4 2]\n",
            " [4 2 1 0]]\n",
            "[[2 5 4]\n",
            " [4 2 5]\n",
            " [6 7 8]]\n"
          ]
        }
      ]
    },
    {
      "cell_type": "code",
      "source": [
        "import numpy as np\n",
        "arry1 = np.array([1,3,4,5,6])\n",
        "arry2 = np.array([2,6,3,4,8])\n",
        "print(arry1)\n",
        "print(np.add(arry2,arry1))\n",
        "print(np.subtract(arry2,arry1))\n",
        "print(np.multiply(arry2,arry1))\n",
        "print(np.divide(arry2,arry1))\n",
        "print(type(arry))"
      ],
      "metadata": {
        "colab": {
          "base_uri": "https://localhost:8080/"
        },
        "id": "qLedzV7n0z82",
        "outputId": "288cf3e6-7f9c-497a-edb4-0995e989ceba"
      },
      "execution_count": 13,
      "outputs": [
        {
          "output_type": "stream",
          "name": "stdout",
          "text": [
            "[1 3 4 5 6]\n",
            "[ 3  9  7  9 14]\n",
            "[ 1  3 -1 -1  2]\n",
            "[ 2 18 12 20 48]\n",
            "[2.         2.         0.75       0.8        1.33333333]\n",
            "<class 'numpy.ndarray'>\n"
          ]
        }
      ]
    }
  ]
}