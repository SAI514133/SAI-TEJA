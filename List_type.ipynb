{
  "nbformat": 4,
  "nbformat_minor": 0,
  "metadata": {
    "colab": {
      "provenance": [],
      "authorship_tag": "ABX9TyMgoYc4agZikuR69knWOocC",
      "include_colab_link": true
    },
    "kernelspec": {
      "name": "python3",
      "display_name": "Python 3"
    },
    "language_info": {
      "name": "python"
    }
  },
  "cells": [
    {
      "cell_type": "markdown",
      "metadata": {
        "id": "view-in-github",
        "colab_type": "text"
      },
      "source": [
        "<a href=\"https://colab.research.google.com/github/SAI514133/SAI-TEJA/blob/main/List_type.ipynb\" target=\"_parent\"><img src=\"https://colab.research.google.com/assets/colab-badge.svg\" alt=\"Open In Colab\"/></a>"
      ]
    },
    {
      "cell_type": "code",
      "execution_count": null,
      "metadata": {
        "colab": {
          "base_uri": "https://localhost:8080/"
        },
        "id": "0hMdOvhsjcTa",
        "outputId": "4f246a9c-d74f-443f-ab9a-d4ad4049318f"
      },
      "outputs": [
        {
          "output_type": "stream",
          "name": "stdout",
          "text": [
            "{1, 2, 3, 4, 5}\n",
            "{8, 1, 3, 6}\n",
            "<class 'set'>\n"
          ]
        }
      ],
      "source": [
        "list = {1, 2, 3, 4, 5}\n",
        "list1 ={3, 6, 1, 8}\n",
        "print(list)\n",
        "print(list1)\n",
        "print(type(list))"
      ]
    },
    {
      "cell_type": "code",
      "source": [
        "\n",
        "List = [\"Geeks\",\"For\",\"Geeks\"]\n",
        "list2 = \"my first lab\"\n",
        "list3 = 4,3\n",
        "list4 = 2j+6\n",
        "list5 = \"My first lab\"\n",
        "print(type(list2))\n",
        "print(type(list3))\n",
        "print(type(list4))\n",
        "print(type(list5))\n",
        "print(\"\\nList Items:\")\n",
        "print(List)\n",
        "print(type(List))\n",
        "print(List[0])\n",
        "print(List[2])\n"
      ],
      "metadata": {
        "colab": {
          "base_uri": "https://localhost:8080/"
        },
        "id": "JJpN0WYalyqk",
        "outputId": "272e5b22-f590-4c4a-bc59-50b923482c74"
      },
      "execution_count": null,
      "outputs": [
        {
          "output_type": "stream",
          "name": "stdout",
          "text": [
            "<class 'str'>\n",
            "<class 'tuple'>\n",
            "<class 'complex'>\n",
            "<class 'str'>\n",
            "\n",
            "List Items:\n",
            "['Geeks', 'For', 'Geeks']\n",
            "<class 'list'>\n",
            "Geeks\n",
            "Geeks\n"
          ]
        }
      ]
    }
  ]
}